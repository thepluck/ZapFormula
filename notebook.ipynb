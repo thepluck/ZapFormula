{
 "cells": [
  {
   "cell_type": "code",
   "execution_count": 1,
   "metadata": {},
   "outputs": [
    {
     "name": "stdout",
     "output_type": "stream",
     "text": [
      "\n"
     ]
    }
   ],
   "source": [
    "from sympy import *\n",
    "init_session(quiet=True)"
   ]
  },
  {
   "cell_type": "code",
   "execution_count": 2,
   "metadata": {},
   "outputs": [],
   "source": [
    "x, y, L, pold, pnew, pa, pb = symbols('x y L p_old p_new p_a p_b')\n",
    "dx, dy, df = symbols('dx dy df')\n",
    "dx = (1 / pnew - 1 / pold) * L\n",
    "dy = (pnew - pold) * L\n",
    "df = (x + dx) * pnew * pb / (pb - pnew) - (y + dy) / (pnew - pa)\n",
    "num, denom = fraction(simplify(df))"
   ]
  },
  {
   "cell_type": "code",
   "execution_count": 3,
   "metadata": {},
   "outputs": [
    {
     "data": {
      "text/latex": [
       "$\\displaystyle \\frac{p_{b} p_{new} \\left(L \\left(- \\frac{1}{p_{old}} + \\frac{1}{p_{new}}\\right) + x\\right)}{p_{b} - p_{new}} - \\frac{L \\left(p_{new} - p_{old}\\right) + y}{- p_{a} + p_{new}}$"
      ],
      "text/plain": [
       "          ⎛  ⎛    1       1  ⎞    ⎞                        \n",
       "p_b⋅p_new⋅⎜L⋅⎜- ───── + ─────⎟ + x⎟                        \n",
       "          ⎝  ⎝  p_old   p_new⎠    ⎠   L⋅(p_new - p_old) + y\n",
       "─────────────────────────────────── - ─────────────────────\n",
       "            p_b - p_new                    -pₐ + p_new     "
      ]
     },
     "execution_count": 3,
     "metadata": {},
     "output_type": "execute_result"
    }
   ],
   "source": [
    "df"
   ]
  },
  {
   "cell_type": "code",
   "execution_count": 12,
   "metadata": {},
   "outputs": [
    {
     "data": {
      "text/latex": [
       "$\\displaystyle - \\frac{L p_{b}}{p_{new} \\left(p_{b} - p_{new}\\right)} - \\frac{L}{- p_{a} + p_{new}} + \\frac{p_{b} p_{new} \\left(L \\left(- \\frac{1}{p_{old}} + \\frac{1}{p_{new}}\\right) + x\\right)}{\\left(p_{b} - p_{new}\\right)^{2}} + \\frac{p_{b} \\left(L \\left(- \\frac{1}{p_{old}} + \\frac{1}{p_{new}}\\right) + x\\right)}{p_{b} - p_{new}} + \\frac{L \\left(p_{new} - p_{old}\\right) + y}{\\left(- p_{a} + p_{new}\\right)^{2}}$"
      ],
      "text/plain": [
       "                                                ⎛  ⎛    1       1  ⎞    ⎞      ↪\n",
       "                                      p_b⋅p_new⋅⎜L⋅⎜- ───── + ─────⎟ + x⎟   p_ ↪\n",
       "         L⋅p_b               L                  ⎝  ⎝  p_old   p_new⎠    ⎠      ↪\n",
       "- ─────────────────── - ─────────── + ─────────────────────────────────── + ── ↪\n",
       "  p_new⋅(p_b - p_new)   -pₐ + p_new                          2                 ↪\n",
       "                                                (p_b - p_new)                  ↪\n",
       "\n",
       "↪   ⎛  ⎛    1       1  ⎞    ⎞                        \n",
       "↪ b⋅⎜L⋅⎜- ───── + ─────⎟ + x⎟                        \n",
       "↪   ⎝  ⎝  p_old   p_new⎠    ⎠   L⋅(p_new - p_old) + y\n",
       "↪ ─────────────────────────── + ─────────────────────\n",
       "↪        p_b - p_new                            2    \n",
       "↪                                  (-pₐ + p_new)     "
      ]
     },
     "execution_count": 12,
     "metadata": {},
     "output_type": "execute_result"
    }
   ],
   "source": [
    "diff(df, pnew)"
   ]
  },
  {
   "cell_type": "code",
   "execution_count": 11,
   "metadata": {},
   "outputs": [
    {
     "data": {
      "text/latex": [
       "$\\displaystyle \\operatorname{Poly}{\\left( \\left(L p_{b} - L p_{old} - p_{b} p_{old} x\\right) p_{new}^{2} + \\left(- L p_{a} p_{b} + L p_{old}^{2} + p_{a} p_{b} p_{old} x - p_{old} y\\right) p_{new} + L p_{a} p_{b} p_{old} - L p_{b} p_{old}^{2} + p_{b} p_{old} y, p_{new}, domain=\\mathbb{Z}\\left[p_{a}, x, p_{b}, p_{old}, L, y\\right] \\right)}$"
      ],
      "text/plain": [
       "Poly((L*p_b - L*p_old - p_b*p_old*x)*p_new**2 + (-L*p_a*p_b + L*p_old**2 + p_a ↪\n",
       "\n",
       "↪ *p_b*p_old*x - p_old*y)*p_new + L*p_a*p_b*p_old - L*p_b*p_old**2 + p_b*p_old ↪\n",
       "\n",
       "↪ *y, p_new, domain='ZZ[p_a,x,p_b,p_old,L,y]')"
      ]
     },
     "execution_count": 11,
     "metadata": {},
     "output_type": "execute_result"
    }
   ],
   "source": [
    "poly(num, pnew)"
   ]
  }
 ],
 "metadata": {
  "kernelspec": {
   "display_name": "base",
   "language": "python",
   "name": "python3"
  },
  "language_info": {
   "codemirror_mode": {
    "name": "ipython",
    "version": 3
   },
   "file_extension": ".py",
   "mimetype": "text/x-python",
   "name": "python",
   "nbconvert_exporter": "python",
   "pygments_lexer": "ipython3",
   "version": "3.12.2"
  }
 },
 "nbformat": 4,
 "nbformat_minor": 2
}
